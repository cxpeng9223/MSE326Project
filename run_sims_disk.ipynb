{
 "cells": [
  {
   "cell_type": "code",
   "execution_count": 2,
   "metadata": {},
   "outputs": [],
   "source": [
    "import itertools\n",
    "import math\n",
    "import pickle\n",
    "import time\n",
    "\n",
    "from simulation import simulate\n",
    "from algs import *\n",
    "from payoff import *\n",
    "from plotting import *\n",
    "from util import *"
   ]
  },
  {
   "cell_type": "code",
   "execution_count": 3,
   "metadata": {},
   "outputs": [],
   "source": [
    "steps = 2000\n",
    "narms = 2\n",
    "nsims = 4\n",
    "\n",
    "strategies = [ucb1]\n",
    "strategies_alt = [thompson_sampling]\n",
    "nagents = [2000, 500, 100, 50]\n",
    "lifespans = [5, 20, 50, 200]"
   ]
  },
  {
   "cell_type": "markdown",
   "metadata": {},
   "source": [
    "# Negative externalities\n",
    "\n",
    "$$ Q(\\theta, f) = \\frac{\\theta}{1+Lf}$$"
   ]
  },
  {
   "cell_type": "code",
   "execution_count": 4,
   "metadata": {},
   "outputs": [],
   "source": [
    "def neg_ext(Ls, strategies, strategies_alt, lifespans, nagents, mixes, steps=2000):\n",
    "    t_start = time.time()\n",
    "    \n",
    "    size_cross = len(Ls) * len(strategies) * len(lifespans) * len(nagents) * len(strategies_alt) * len(mixes)\n",
    "    print(\"Starting {} simulations\".format(size_cross))\n",
    "\n",
    "    for itr, (L, strategy, strategy_alt ,lifespan, nagent, mix) in enumerate(itertools.product(Ls, strategies, strategies_alt, lifespans, nagents, mixes)):\n",
    "        config = {\"k\": narms, \n",
    "                  \"types\": [(3, 1), (1, 3)],\n",
    "                  \"nagents\": nagent, \n",
    "                  \"beta\": lifespan_to_beta(lifespan), \n",
    "                  \"strategy\": strategy, \n",
    "                  \"strategy_alt\": strategy_alt,\n",
    "                  \"payoff\": create_neg_externatilities(L),\n",
    "                  \"mix\": mix}\n",
    "\n",
    "        fname = \"neg_ext_L{}_S{}_S{}_A{}_K{}_LS{}_M{}\".format(int(10*L),\n",
    "                                                      config[\"strategy\"].__name__, \n",
    "                                                      config[\"strategy_alt\"].__name__, \n",
    "                                                      config[\"nagents\"], \n",
    "                                                      config[\"k\"], \n",
    "                                                      lifespan,\n",
    "                                                      config[\"mix\"])\n",
    "\n",
    "        outcome = [simulate(config, steps) for _ in range(nsims)]\n",
    "        dump(outcome, fname)\n",
    "\n",
    "        if itr % max(40, int(size_cross / 10)+1):\n",
    "            progress(itr, size_cross, t_start)\n",
    "\n",
    "    print(\"Total time: {:.2f} seconds\".format(time.time() - t_start))"
   ]
  },
  {
   "cell_type": "code",
   "execution_count": 4,
   "metadata": {},
   "outputs": [
    {
     "name": "stdout",
     "output_type": "stream",
     "text": [
      "Starting 4 simulations\n",
      "\t  50.0% \t 172.92s \t 172.92s\n",
      "\t  75.0% \t 258.33s \t 86.11s\n",
      "\t 100.0% \t 344.07s \t  0.00s\n",
      "Total time: 344.07 seconds\n"
     ]
    }
   ],
   "source": [
    "# Figure 1\n",
    "neg_ext([0.2, 3, 7, 20], [ucb3], [ucb3] ,[50], [2000], [0], steps)"
   ]
  },
  {
   "cell_type": "code",
   "execution_count": 6,
   "metadata": {},
   "outputs": [
    {
     "name": "stdout",
     "output_type": "stream",
     "text": [
      "Starting 4 simulations\n",
      "\t  50.0% \t 12.50s \t 12.50s\n",
      "\t  75.0% \t 55.39s \t 18.46s\n",
      "\t 100.0% \t 220.74s \t  0.00s\n",
      "Total time: 220.74 seconds\n"
     ]
    }
   ],
   "source": [
    "# Figure 2\n",
    "neg_ext([20], [ucb1], [ucb1], [200], [50, 100, 500, 2000], [0], steps)"
   ]
  },
  {
   "cell_type": "markdown",
   "metadata": {},
   "source": [
    "# Positive externalities"
   ]
  },
  {
   "cell_type": "code",
   "execution_count": 7,
   "metadata": {},
   "outputs": [],
   "source": [
    "def pos_ext(strategies, strategies_alt ,nagents, lifespans, mixes, steps=2000):\n",
    "    size_cross = len(strategies) * len(nagents) * len(lifespans) * len(strategies_alt) * len(mixes)\n",
    "    t_start = time.time()\n",
    "    print(\"Starting {} simulations\".format(size_cross))\n",
    "\n",
    "    for itr, (strategy, strategy_alt, nagent, lifespan, mix) in enumerate(itertools.product(strategies, strategies_alt, nagents, lifespans, mixes)):\n",
    "        config = {\"k\": narms, \n",
    "                  \"types\": [(1, 1), (1, 1)],\n",
    "                  \"nagents\": nagent, \n",
    "                  \"beta\": lifespan_to_beta(lifespan), \n",
    "                  \"strategy\": strategy, \n",
    "                  \"strategy_alt\": strategy_alt, \n",
    "                  \"payoff\": pos_externalities,\n",
    "                  \"mix\": mix}\n",
    "\n",
    "        fname = \"pos_ext_S{}_S{}_A{}_K{}_LS{}_M{}\".format(config[\"strategy\"].__name__,\n",
    "                                                      config[\"strategy_alt\"].__name__,\n",
    "                                                    config[\"nagents\"], \n",
    "                                                    config[\"k\"], \n",
    "                                                    lifespan,\n",
    "                                                    config[\"mix\"])\n",
    "\n",
    "        outcome = [simulate(config, steps) for _ in range(nsims)]\n",
    "        dump(outcome, fname)\n",
    "\n",
    "        if itr % max(40, int(size_cross / 10)+1):\n",
    "            progress(itr, size_cross, t_start)\n",
    "\n",
    "    print(\"Total time: {:.2f} seconds\".format(time.time() - t_start))"
   ]
  },
  {
   "cell_type": "code",
   "execution_count": 18,
   "metadata": {},
   "outputs": [
    {
     "name": "stdout",
     "output_type": "stream",
     "text": [
      "Starting 8 simulations\n",
      "\t  25.0% \t 328.82s \t 986.45s\n",
      "\t  37.5% \t 367.61s \t 612.68s\n",
      "\t  50.0% \t 409.73s \t 409.73s\n",
      "\t  62.5% \t 417.96s \t 250.78s\n",
      "\t  75.0% \t 426.29s \t 142.10s\n",
      "\t  87.5% \t 430.52s \t 61.50s\n",
      "\t 100.0% \t 435.09s \t  0.00s\n",
      "Total time: 435.09 seconds\n"
     ]
    }
   ],
   "source": [
    "# Figure 3 and 4\n",
    "pos_ext([ucb1], [ucb1], nagents, [10, 200], [0], steps)"
   ]
  },
  {
   "cell_type": "markdown",
   "metadata": {},
   "source": [
    "# Coordination game"
   ]
  },
  {
   "cell_type": "code",
   "execution_count": 15,
   "metadata": {},
   "outputs": [],
   "source": [
    "def coord_game(gammas, strategies, strategies_alt ,nagents, lifespans, mixes):\n",
    "    size_cross = len(gammas) * len(strategies) * len(nagents) * len(lifespans) * len(strategies_alt) * len(mixes)\n",
    "    t_start = time.time()\n",
    "    print(\"Starting {} simulations\".format(size_cross))\n",
    "\n",
    "    for itr, (gamma, strategy, strategy_alt, nagent, lifespan, mix) in enumerate(itertools.product(gammas, strategies, strategies_alt, nagents, lifespans, mixes)):\n",
    "        config = {\"k\": narms, \n",
    "                  \"types\": [(1, 1), (1, 1)],\n",
    "                  \"nagents\": nagent, \n",
    "                  \"beta\": lifespan_to_beta(lifespan), \n",
    "                  \"strategy\": strategy, \n",
    "                  \"strategy_alt\": strategy_alt,\n",
    "                  \"payoff\": create_coord_game(gamma),\n",
    "                  \"mix\": mix}\n",
    "\n",
    "        fname = \"coordgame_G{}_S{}_S{}_A{}_K{}_LS{}_M{}\".format(int(gamma*100),\n",
    "                                                      config[\"strategy\"].__name__, \n",
    "                                                      config[\"strategy_alt\"].__name__,\n",
    "                                                      config[\"nagents\"], \n",
    "                                                      config[\"k\"], \n",
    "                                                      lifespan,\n",
    "                                                      config[\"mix\"])\n",
    "\n",
    "        outcome = [simulate(config, steps) for _ in range(nsims)]\n",
    "        dump(outcome, fname)\n",
    "\n",
    "        if itr % max(40, int(size_cross / 10)+1):\n",
    "            progress(itr, size_cross, t_start)\n",
    "\n",
    "    print(\"Total time: {:.2f} seconds\".format(time.time() - t_start))"
   ]
  },
  {
   "cell_type": "code",
   "execution_count": 17,
   "metadata": {},
   "outputs": [
    {
     "name": "stdout",
     "output_type": "stream",
     "text": [
      "Starting 4 simulations\n",
      "\t  50.0% \t 283.78s \t 283.78s\n",
      "\t  75.0% \t 424.77s \t 141.59s\n",
      "\t 100.0% \t 562.28s \t  0.00s\n",
      "Total time: 562.28 seconds\n"
     ]
    }
   ],
   "source": [
    "# Figure 5\n",
    "coord_game([0.5], [ucb2], [ucb2] ,[2000], lifespans, [0])"
   ]
  },
  {
   "cell_type": "code",
   "execution_count": null,
   "metadata": {},
   "outputs": [],
   "source": []
  }
 ],
 "metadata": {
  "kernelspec": {
   "display_name": "Python 3",
   "language": "python",
   "name": "python3"
  },
  "language_info": {
   "codemirror_mode": {
    "name": "ipython",
    "version": 3
   },
   "file_extension": ".py",
   "mimetype": "text/x-python",
   "name": "python",
   "nbconvert_exporter": "python",
   "pygments_lexer": "ipython3",
   "version": "3.6.5"
  }
 },
 "nbformat": 4,
 "nbformat_minor": 1
}
